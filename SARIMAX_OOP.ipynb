{
  "nbformat": 4,
  "nbformat_minor": 0,
  "metadata": {
    "colab": {
      "provenance": []
    },
    "kernelspec": {
      "name": "python3",
      "display_name": "Python 3"
    },
    "language_info": {
      "name": "python"
    }
  },
  "cells": [
    {
      "cell_type": "code",
      "execution_count": null,
      "metadata": {
        "id": "mjss4T6EgvfB"
      },
      "outputs": [],
      "source": [
        "import numpy as np\n",
        "import pandas as pd\n",
        "from statsmodels.tsa.statespace.sarimax import SARIMAX\n",
        "from sklearn.metrics import mean_squared_error"
      ]
    },
    {
      "cell_type": "code",
      "source": [
        "class SARIMAX_Model:\n",
        "  def __init__(self,order=(1,1,1), seasonal_order=(1,1,1,12), exog=None):\n",
        "    \"\"\"\n",
        "    Inicializa o modelo SARIMAX.\n",
        "\n",
        "    \"\"\"\n",
        "    self.order = order\n",
        "    self.seasonal_order = seasonal_order\n",
        "    self.exog = exog\n",
        "    self.model = None\n",
        "    self.results = None\n",
        "\n",
        "  def train(self,train_data):\n",
        "    \"\"\"\n",
        "    Treina o modelo SARIMAX com os dados de treinamento fornecidos.\n",
        "\n",
        "    \"\"\"\n",
        "    self.model = SARIMAX(train_data, order=self.order,\n",
        "                         seasonal_order=self.seasonal_order,\n",
        "                         exog=self.exog)\n",
        "    self.results = self.model.fit(disp=False)\n",
        "    print(\"Modelo treinado com sucesso!\")\n",
        "\n",
        "\n",
        "  def predict(self,steps=12,exog_future=None):\n",
        "    \"\"\"\n",
        "    Realiza previsões usando o modelo treinado.\n",
        "\n",
        "    \"\"\"\n",
        "    if self.results is None:\n",
        "      raise ValueError(\"O modelo não foi treinado.\")\n",
        "    return self.results.get_forecast(steps=steps,exog=exog_future)\n",
        "\n",
        "  def evaluate(self,test_data):\n",
        "    \"\"\"\n",
        "    Avalia o desempenho do modelo usando os dados de teste fornecidos.\n",
        "\n",
        "    \"\"\"\n",
        "    if self.results is None:\n",
        "      raise ValueError(\"O modelo não foi treinado.\")\n",
        "    predctions = self.results.forecast(steps=len(test_data))\n",
        "    mse = mean_squared_error(test_data,predctions)\n",
        "    print(f\"Erro Quadrático Médio (MSE): {mse}\")\n",
        "    return mse\n"
      ],
      "metadata": {
        "id": "MTyz-IJvhLtq"
      },
      "execution_count": null,
      "outputs": []
    },
    {
      "cell_type": "code",
      "source": [
        "# Exemplo de uso\n",
        "if __name__ == \"__main__\":\n",
        "    # Criando dados fictícios\n",
        "    np.random.seed(42)\n",
        "    date_rng = pd.date_range(start='2020-01-01', periods=36, freq='M')\n",
        "    data = pd.Series(np.random.randn(36).cumsum(), index=date_rng)"
      ],
      "metadata": {
        "colab": {
          "base_uri": "https://localhost:8080/"
        },
        "id": "YHNduEMhiwLe",
        "outputId": "4a60e36d-3236-4145-cbb2-14246cf54cf1"
      },
      "execution_count": null,
      "outputs": [
        {
          "output_type": "stream",
          "name": "stderr",
          "text": [
            "<ipython-input-4-2d359d041c12>:5: FutureWarning: 'M' is deprecated and will be removed in a future version, please use 'ME' instead.\n",
            "  date_rng = pd.date_range(start='2020-01-01', periods=36, freq='M')\n"
          ]
        }
      ]
    },
    {
      "cell_type": "code",
      "source": [
        "# Separando dados de treino e teste\n",
        "train, test = data[:24], data[24:]\n",
        "\n",
        "# Criando e treinando o modelo\n",
        "model = SARIMAX_Model(order=(1, 1, 1), seasonal_order=(1, 1, 1, 12))\n",
        "model.train(train)\n",
        "\n",
        "# Fazendo previsões\n",
        "predictions = model.predict(steps=len(test))\n",
        "\n",
        "# Avaliando o modelo\n",
        "model.evaluate(test)"
      ],
      "metadata": {
        "colab": {
          "base_uri": "https://localhost:8080/"
        },
        "id": "_Jp6vZdgiz3Y",
        "outputId": "e5ac97a5-cd10-4210-84d1-8e42cd88d9db"
      },
      "execution_count": null,
      "outputs": [
        {
          "output_type": "stream",
          "name": "stderr",
          "text": [
            "/usr/local/lib/python3.11/dist-packages/statsmodels/tsa/statespace/sarimax.py:978: UserWarning: Non-invertible starting MA parameters found. Using zeros as starting parameters.\n",
            "  warn('Non-invertible starting MA parameters found.'\n",
            "/usr/local/lib/python3.11/dist-packages/statsmodels/tsa/statespace/sarimax.py:866: UserWarning: Too few observations to estimate starting parameters for seasonal ARMA. All parameters except for variances will be set to zeros.\n",
            "  warn('Too few observations to estimate starting parameters%s.'\n"
          ]
        },
        {
          "output_type": "stream",
          "name": "stdout",
          "text": [
            "Modelo treinado com sucesso!\n",
            "Erro Quadrático Médio (MSE): 26.571131044568176\n"
          ]
        },
        {
          "output_type": "execute_result",
          "data": {
            "text/plain": [
              "26.571131044568176"
            ]
          },
          "metadata": {},
          "execution_count": 6
        }
      ]
    },
    {
      "cell_type": "markdown",
      "source": [
        "Código refatorado"
      ],
      "metadata": {
        "id": "fpUhaL8ajpcp"
      }
    },
    {
      "cell_type": "code",
      "source": [
        "#Ao invés de ter todo o modelo em uma classe, separar as funcionalidade em classes diferentes (treino,previsao...)\n",
        "from abc import ABC, abstractmethod\n",
        "\n",
        "class TimeSeriesModel(ABC):\n",
        "  @abstractmethod\n",
        "  def fit(self,data):\n",
        "    pass\n",
        "\n",
        "  @abstractmethod\n",
        "  def predict(self,steps,exog=None):\n",
        "    pass\n",
        "\n",
        "class SARIMAXAdapter(TimeSeriesModel):\n",
        "  def __init__(self,order=(1,1,1), seasonal_order=(1,1,1,12), exog=None):\n",
        "    \"\"\"\n",
        "    Inicializa o modelo SARIMAX.\n",
        "\n",
        "    \"\"\"\n",
        "    self.model = SARIMAX(order=order,seasonal_order=seasonal_order,exog=exog)\n",
        "    self.results = None\n",
        "\n",
        "  def fit(self,data):\n",
        "    self.results.fit(disp=False)\n",
        "\n",
        "  def predict(self,steps,exog=None):\n",
        "    return self.result.get_forecast(steps=steps,exog=exog)\n",
        "\n",
        "class SARIMAXModelTrainer:\n",
        "  def train(self,model,train_data):\n",
        "    model.model = SARIMAX(train_data,\n",
        "                          order=model.order,\n",
        "                          seasonal_order=model.seasonal_order,\n",
        "                          exog=model.exog)\n",
        "    model.results = model.model.fit(disp=False)\n",
        "    print(\"Modelo treinado com sucesso\")\n",
        "\n",
        "class SARIMAXModelPredictor:\n",
        "  def predict(self,model,steps=12,exog_future=None):\n",
        "    if model.results is None:\n",
        "      raise ValueError(\"O modelo não foi treinado.\")\n",
        "    return model.results.get_forecast(steps=steps,exog=exog_future)\n",
        "\n",
        "class SARIMAXModelEvaluator:\n",
        "  def evaluate(self,model,test_data):\n",
        "    if model.results is None:\n",
        "      raise ValueError(\"O modelo não foi treinado.\")\n",
        "    predictions = model.results.forecast(steps=len(test_data))\n",
        "    mse = mean_squared_error(test_data,predictions)\n",
        "    print(f\"Erro Quadrático Médio (MSE): {mse}\")\n",
        "    return mse"
      ],
      "metadata": {
        "id": "QLVh3UaLjszK"
      },
      "execution_count": null,
      "outputs": []
    },
    {
      "cell_type": "code",
      "source": [],
      "metadata": {
        "id": "3DFFYuqgnR5A"
      },
      "execution_count": null,
      "outputs": []
    },
    {
      "cell_type": "markdown",
      "source": [
        "Exemplo de Código"
      ],
      "metadata": {
        "id": "ZCUIQT6hpnD_"
      }
    },
    {
      "cell_type": "code",
      "source": [
        "import numpy as np\n",
        "import pandas as pd\n",
        "from statsmodels.tsa.statespace.sarimax import SARIMAX\n",
        "from sklearn.metrics import mean_squared_error\n",
        "import matplotlib.pyplot as plt\n",
        "from abc import ABC, abstractmethod\n",
        "\n",
        "# Interfaces para Polimorfismo e Abstração\n",
        "class ModeloDeSerieTemporal(ABC):\n",
        "    @abstractmethod\n",
        "    def treinar(self, dados_treinamento):\n",
        "        pass\n",
        "\n",
        "    @abstractmethod\n",
        "    def prever(self, passos, dados_exogenos=None):\n",
        "        pass\n",
        "\n",
        "class Avaliador(ABC):\n",
        "    @abstractmethod\n",
        "    def avaliar(self, modelo, dados_teste):\n",
        "        pass\n",
        "\n",
        "# Classes de Dados\n",
        "class DadosDeTreinamento:\n",
        "    def __init__(self, dados):\n",
        "        self.dados = dados\n",
        "\n",
        "class DadosDeTeste:\n",
        "    def __init__(self, dados):\n",
        "        self.dados = dados\n",
        "\n",
        "class Previsoes:\n",
        "    def __init__(self, valores):\n",
        "        self.valores = valores\n",
        "\n",
        "# Classe Modelo SARIMAX\n",
        "class ModeloSARIMAX(ModeloDeSerieTemporal):\n",
        "    def __init__(self, ordem, ordem_sazonal, dados_exogenos=None):\n",
        "        self.ordem = ordem\n",
        "        self.ordem_sazonal = ordem_sazonal\n",
        "        self.dados_exogenos = dados_exogenos\n",
        "        self._resultados = None  # Atributo privado\n",
        "\n",
        "    def treinar(self, dados_treinamento):\n",
        "        modelo = SARIMAX(dados_treinamento.dados, order=self.ordem, seasonal_order=self.ordem_sazonal, exog=self.dados_exogenos)\n",
        "        self._resultados = modelo.fit(disp=False)\n",
        "\n",
        "    def prever(self, passos, dados_exogenos=None):\n",
        "        if self._resultados is None:\n",
        "            raise ValueError(\"O modelo não foi treinado.\")\n",
        "        previsoes = self._resultados.get_forecast(steps=passos, exog=dados_exogenos)\n",
        "        return Previsoes(valores=previsoes.predicted_mean)\n",
        "\n",
        "# Classe Avaliador de Modelo\n",
        "class AvaliadorMSE(Avaliador):\n",
        "    def avaliar(self, modelo, dados_teste):\n",
        "        previsoes = modelo.prever(len(dados_teste.dados))\n",
        "        mse = mean_squared_error(dados_teste.dados, previsoes.valores)\n",
        "        return mse\n",
        "\n",
        "# Classe Gerador de Gráficos\n",
        "class GeradorDeGraficos:\n",
        "    def gerar_grafico_de_linha(self, previsoes, dados_teste=None):\n",
        "        plt.figure(figsize=(12, 6))\n",
        "        plt.plot(previsoes.valores, label='Previsões')\n",
        "        if dados_teste:\n",
        "            plt.plot(dados_teste.dados, label='Dados de Teste')\n",
        "        plt.legend()\n",
        "        plt.show()\n",
        "\n",
        "    def salvar_grafico(self, previsoes, nome_arquivo=\"previsoes.png\", dados_teste=None):\n",
        "        plt.figure(figsize=(12, 6))\n",
        "        plt.plot(previsoes.valores, label='Previsões')\n",
        "        if dados_teste:\n",
        "            plt.plot(dados_teste.dados, label='Dados de Teste')\n",
        "        plt.legend()\n",
        "        plt.savefig(nome_arquivo)\n",
        "\n",
        "# Exemplo de Uso\n",
        "dados_treinamento_np = np.random.randn(100)\n",
        "dados_teste_np = np.random.randn(20)\n",
        "\n",
        "dados_treinamento = DadosDeTreinamento(dados_treinamento_np)\n",
        "dados_teste = DadosDeTeste(dados_teste_np)\n",
        "\n",
        "modelo_sarimax = ModeloSARIMAX(ordem=(1, 1, 1), ordem_sazonal=(1, 1, 1, 12))\n",
        "modelo_sarimax.treinar(dados_treinamento)\n",
        "\n",
        "previsoes = modelo_sarimax.prever(passos=len(dados_teste.dados))\n",
        "\n",
        "avaliador = AvaliadorMSE()\n",
        "mse = avaliador.avaliar(modelo_sarimax, dados_teste)\n",
        "print(f\"MSE: {mse}\")\n",
        "\n",
        "grafico_gerador = GeradorDeGraficos()\n",
        "grafico_gerador.gerar_grafico_de_linha(previsoes, dados_teste)\n",
        "grafico_gerador.salvar_grafico(previsoes, dados_teste=dados_teste)"
      ],
      "metadata": {
        "id": "xPYvShy_porE"
      },
      "execution_count": null,
      "outputs": []
    },
    {
      "cell_type": "markdown",
      "source": [
        "Explicações e Decisões:\n",
        "\n",
        "Interfaces e Herança:\n",
        "ModeloDeSerieTemporal e Avaliador são interfaces, permitindo polimorfismo.\n",
        "ModeloSARIMAX implementa ModeloDeSerieTemporal.\n",
        "AvaliadorMSE implementa Avaliador.\n",
        "Encapsulamento:\n",
        "_resultados em ModeloSARIMAX é privado, protegendo os resultados do treinamento.\n",
        "Abstração:\n",
        "Os detalhes complexos do SARIMAX são encapsulados nas classes ModeloSARIMAX, AvaliadorMSE, e GeradorDeGraficos, fornecendo métodos simples como treinar, prever, avaliar, gerar_grafico_de_linha, e salvar_grafico.\n",
        "Polimorfismo:\n",
        "Se você quiser adicionar outros modelos de séries temporais (ARIMA, Prophet, etc.), basta criar novas classes que implementem ModeloDeSerieTemporal.\n",
        "Da mesma forma, diferentes métricas de avaliação podem ser adicionadas implementando Avaliador.\n",
        "Classes de Dados:\n",
        "As classes DadosDeTreinamento, DadosDeTeste, e Previsoes encapsulam os dados, facilitando a passagem de dados entre os objetos."
      ],
      "metadata": {
        "id": "fxZuuD0zpu-s"
      }
    },
    {
      "cell_type": "code",
      "source": [],
      "metadata": {
        "id": "mquPimropvi4"
      },
      "execution_count": null,
      "outputs": []
    },
    {
      "cell_type": "markdown",
      "source": [
        "Melhores Práticas de Testes Unitários\n",
        "- **Escreva Testes Antes do Código (TDD)**: Escrever testes antes do código ajuda a definir os requisitos e a garantir que o código seja testável.\n",
        "- **Mantenha os Testes Isolados:** Evite dependências externas (bancos de dados, APIs) nos testes unitários. Use mocks ou stubs para simular essas dependências.\n",
        "- **Teste Casos de Borda:** Teste casos extremos e entradas inválidas para garantir que o código seja robusto.\n",
        "- **Mantenha os Testes Rápidos:** Testes unitários devem ser rápidos para serem executados com frequência.\n",
        "- **Mantenha os Testes Simples:** Testes complexos podem ser difíceis de manter e entender.\n",
        "\n"
      ],
      "metadata": {
        "id": "ue9zaOkmrMTW"
      }
    },
    {
      "cell_type": "code",
      "source": [],
      "metadata": {
        "id": "Zz5kzNkbrbko"
      },
      "execution_count": null,
      "outputs": []
    },
    {
      "cell_type": "markdown",
      "source": [
        "Regressão utilizando OOP e SOLID"
      ],
      "metadata": {
        "id": "PvRJcj-2vvwI"
      }
    },
    {
      "cell_type": "code",
      "source": [
        "import numpy as np\n",
        "import pandas as pd\n",
        "from sklearn.datasets import load_breast_cancer\n",
        "from sklearn.model_selection import train_test_split\n",
        "from sklearn.preprocessing import StandardScaler\n",
        "from sklearn.linear_model import LinearRegression\n",
        "from sklearn.metrics import mean_squared_error\n",
        "import matplotlib.pyplot as plt\n",
        "from abc import ABC, abstractmethod\n",
        "\n",
        "class DataLoader:\n",
        "  def load_data(self):\n",
        "    breast_cancer = load_breast_cancer()\n",
        "    data = pd.DataFrame(data=breast_cancer.data, columns=breast_cancer.feature_names)\n",
        "    data['target'] = breast_cancer.target\n",
        "    return data\n",
        "\n",
        "class DatePreprocessor:\n",
        "  def preprocess_data(self,data,test_size=0.2,random_state=42):\n",
        "    X = data.drop('target',axis=1)\n",
        "    y = data['target']\n",
        "    X_train,X_test,y_train,y_test = train_test_split(X,y,test_size=test_size, random_state=random_state)\n",
        "    scaler = StandardScaler()\n",
        "    X_train_scaled = scaler.fit_transform(X_train)\n",
        "    X_test_scaled = scaler.transform(X_test)\n",
        "    return X_train_scaled,X_test_scaled,y_train,y_test\n",
        "\n",
        "class RegressionModel(ABC):\n",
        "  @abstractmethod\n",
        "  def train(self,X_train, y_train):\n",
        "    pass\n",
        "\n",
        "  @abstractmethod\n",
        "  def predict(self,X_test):\n",
        "    pass\n",
        "\n",
        "class LinearRegressionModel(RegressionModel):\n",
        "  def __init__(self):\n",
        "    self.model = LinearRegression()\n",
        "\n",
        "  def train(self,X_train,y_train):\n",
        "    self.model.fit(X_train,y_train)\n",
        "\n",
        "  def predict(self,X_test):\n",
        "    return self.model.predict(X_test)\n",
        "\n",
        "class ModelTrainer:\n",
        "  def train_model(self,model, X_train, y_train):\n",
        "    model.train(X_train, y_train)\n",
        "\n",
        "class ModelEvaluator:\n",
        "  def evaluate_model(self,model,X_test,y_test):\n",
        "    y_pred = model.predict(X_test)\n",
        "    mse = mean_squared_error(y_test,y_pred)\n",
        "    print(f\"Erro Quadrático Médio (MSE): {mse}\")\n",
        "    return mse\n",
        "\n",
        "class GraphGenerator:\n",
        "  def generate_scatter_plot(self,y_test,y_pred):\n",
        "      plt.figure(figsize=(10, 6))\n",
        "      plt.scatter(y_test, y_pred)\n",
        "      plt.xlabel(\"Valores Reais\")\n",
        "      plt.ylabel(\"Valores Previstos\")\n",
        "      plt.title(\"Valores Reais vs. Valores Previstos\")\n",
        "      plt.show()\n"
      ],
      "metadata": {
        "id": "-SEl1_javyXW"
      },
      "execution_count": null,
      "outputs": []
    },
    {
      "cell_type": "code",
      "source": [
        "# Exemplo de Uso\n",
        "data_loader = DataLoader()\n",
        "data = data_loader.load_data()\n",
        "\n",
        "data_preprocessor = DatePreprocessor()\n",
        "X_train, X_test, y_train, y_test = data_preprocessor.preprocess_data(data)\n",
        "\n",
        "regression_model = LinearRegressionModel()\n",
        "\n",
        "model_trainer = ModelTrainer()\n",
        "model_trainer.train_model(regression_model, X_train, y_train)\n",
        "\n",
        "model_evaluator = ModelEvaluator()\n",
        "model_evaluator.evaluate_model(regression_model, X_test, y_test)\n",
        "\n",
        "graph_generator = GraphGenerator()\n",
        "y_pred = regression_model.predict(X_test)\n",
        "graph_generator.generate_scatter_plot(y_test, y_pred)"
      ],
      "metadata": {
        "colab": {
          "base_uri": "https://localhost:8080/",
          "height": 436
        },
        "id": "pCxj3Dk_yHdC",
        "outputId": "29a99e68-c5a0-4182-a819-443b408ec05e"
      },
      "execution_count": null,
      "outputs": [
        {
          "output_type": "stream",
          "name": "stdout",
          "text": [
            "Erro Quadrático Médio (MSE): 0.06410886247029458\n"
          ]
        },
        {
          "output_type": "display_data",
          "data": {
            "text/plain": [
              "<Figure size 1000x600 with 1 Axes>"
            ],
            "image/png": "[encoded data removed]"
          },
          "metadata": {}
        }
      ]
    },
    {
      "cell_type": "code",
      "source": [
        "import unittest\n",
        "import numpy as np\n",
        "from regression_model import (\n",
        "    DataLoader,\n",
        "    DataPreprocessor,\n",
        "    LinearRegressionModel,\n",
        "    ModelTrainer,\n",
        "    ModelEvaluator,\n",
        ")\n",
        "\n",
        "class TestRegression(unittest.TestCase):\n",
        "    def setUp(self):\n",
        "        self.data_loader = DataLoader()\n",
        "        self.data = self.data_loader.load_data()\n",
        "        self.data_preprocessor = DataPreprocessor()\n",
        "        self.X_train, self.X_test, self.y_train, self.y_test = self.data_preprocessor.preprocess_data(self.data)\n",
        "        self.regression_model = LinearRegressionModel()\n",
        "        self.model_trainer = ModelTrainer()\n",
        "        self.model_evaluator = ModelEvaluator()\n",
        "\n",
        "    def test_data_loader(self):\n",
        "        self.assertIsNotNone(self.data)\n",
        "        self.assertEqual(len(self.data), 569)\n",
        "\n",
        "    def test_data_preprocessor(self):\n",
        "        self.assertIsNotNone(self.X_train)\n",
        "        self.assertIsNotNone(self.X_test)\n",
        "        self.assertIsNotNone(self.y_train)\n",
        "        self.assertIsNotNone(self.y_test)\n",
        "        self.assertEqual(len(self.X_train), 455)\n",
        "        self.assertEqual(len(self.X_test), 114)\n",
        "\n",
        "    def test_linear_regression_model(self):\n",
        "        self.model_trainer.train_model(self.regression_model, self.X_train, self.y_train)\n",
        "        y_pred = self.regression_model.predict(self.X_test)\n",
        "        self.assertIsNotNone(y_pred)\n",
        "        self.assertEqual(len(y_pred), 114)\n",
        "\n",
        "    def test_model_evaluator(self):\n",
        "        self.model_trainer.train_model(self.regression_model, self.X_train, self.y_train)\n",
        "        mse = self.model_evaluator.evaluate_model(self.regression_model, self.X_test, self.y_test)\n",
        "        self.assertIsInstance(mse, float)\n",
        "        self.assertGreaterEqual(mse, 0)\n",
        "\n",
        "if __name__ == '__main__':\n",
        "    unittest.main()"
      ],
      "metadata": {
        "id": "UGcOZDIkys-Q"
      },
      "execution_count": null,
      "outputs": []
    },
    {
      "cell_type": "markdown",
      "source": [
        "Explicações\n",
        "- setUp(self): Este método é executado antes de cada método de teste. Ele é usado para configurar os dados e objetos necessários para os testes.\n",
        "- test_data_loader(self): Este método testa se o carregador de dados está funcionando corretamente. Ele verifica se os dados foram carregados e se o número de linhas está correto.\n",
        "- test_data_preprocessor(self): Este método testa se o pré-processador de dados está funcionando corretamente. Ele verifica se os dados de treino e teste foram criados e se o número de linhas está correto.\n",
        "- test_linear_regression_model(self): Este método testa se o modelo de regressão linear está funcionando corretamente. Ele verifica se o modelo foi treinado e se as previsões foram geradas.\n",
        "- test_model_evaluator(self): Este método testa se o avaliador de modelo está funcionando corretamente. Ele verifica se o MSE foi calculado e se é um valor válido.\n",
        "- Executando os Testes\n",
        "Abra o Terminal ou Prompt de Comando:\n",
        "\n",
        "- No Windows, você pode usar o \"Prompt de Comando\" ou o \"PowerShell\".\n",
        "No macOS ou Linux, você pode usar o \"Terminal\".\n",
        "Navegue até o Diretório do Projeto:\n",
        "\n",
        "- Use o comando cd para navegar até o diretório onde você salvou os arquivos regression_model.py e test_regression.py.\n",
        "Execute os Testes:\n",
        "\n",
        "- Execute o comando python -m unittest test_regression.py.\n",
        "Arquivo de Testes\n",
        "- O arquivo de testes (test_regression.py) pode ficar no mesmo diretório do seu código principal (regression_model.py).\n",
        "Não é necessário colocá-lo em uma pasta separada no Anaconda. O unittest encontrará e executará os testes automaticamente.\n",
        "- É comum criar uma pasta chamada \"tests\" para organizar os testes, dentro desta pasta você pode deixar todos os arquivos de testes, e dentro do código principal, você pode chamar a pasta de testes para realizar os testes.\n",
        "- Dicas Adicionais\n",
        "- Use nomes descritivos para os métodos de teste para facilitar a identificação de falhas.\n",
        "- Teste casos de borda e entradas inválidas para garantir que seu código seja robusto.\n",
        "- Execute os testes com frequência para detectar erros precocemente.\n"
      ],
      "metadata": {
        "id": "guErKSiXzzQF"
      }
    },
    {
      "cell_type": "code",
      "source": [],
      "metadata": {
        "id": "PaSkdkMB0KMW"
      },
      "execution_count": null,
      "outputs": []
    }
  ]
}