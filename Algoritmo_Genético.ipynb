{
  "nbformat": 4,
  "nbformat_minor": 0,
  "metadata": {
    "colab": {
      "provenance": []
    },
    "kernelspec": {
      "name": "python3",
      "display_name": "Python 3"
    },
    "language_info": {
      "name": "python"
    }
  },
  "cells": [
    {
      "cell_type": "markdown",
      "source": [
        "#Fitness Function\n",
        "É ela que vai dar feedback para o algoritmo genético de se aquela solução que ele propôs é boa ou o quanto ela é boa ou não. O algoritmo genético não sabe avaliar a qualidade da resposta. Assim, criamos essa função para avaliar a solução proposta pelo algoritmo genético e dar um feedback para ele. O algoritmo genetico busca maximizar a função. Quanto maior o valor, mais perto ele está de resolver o problema"
      ],
      "metadata": {
        "id": "73k8WcJKyadD"
      }
    },
    {
      "cell_type": "code",
      "execution_count": 3,
      "metadata": {
        "id": "aaw_SCZJyV7h"
      },
      "outputs": [],
      "source": [
        "import numpy as np\n",
        "def equation_func(solution):\n",
        "  x = solution[0]\n",
        "  equation_output = 2*x + 5\n",
        "  target_otput = 20\n",
        "  fitness = 1.0/ np.abs(equation_output - target_otput + 1e-8)\n",
        "  return (fitness)"
      ]
    },
    {
      "cell_type": "code",
      "source": [
        "lista = [-10,-5,0,5,7.5,10]\n",
        "for value in lista:\n",
        "  result = equation_func([value])\n",
        "  print(result)"
      ],
      "metadata": {
        "colab": {
          "base_uri": "https://localhost:8080/"
        },
        "id": "czD3Cd8Szr-a",
        "outputId": "d9013246-fe6a-4bfc-95e4-a51392c02193"
      },
      "execution_count": 4,
      "outputs": [
        {
          "output_type": "stream",
          "name": "stdout",
          "text": [
            "0.028571428579591836\n",
            "0.040000000016\n",
            "0.06666666671111111\n",
            "0.2000000004\n",
            "100000000.0\n",
            "0.1999999996\n"
          ]
        }
      ]
    },
    {
      "cell_type": "markdown",
      "source": [
        "#Implementando algoritmo Genético"
      ],
      "metadata": {
        "id": "M1fEbgNg0PaX"
      }
    },
    {
      "cell_type": "code",
      "source": [
        "!pip install pygad"
      ],
      "metadata": {
        "colab": {
          "base_uri": "https://localhost:8080/"
        },
        "id": "1zfACGE50YdN",
        "outputId": "a35cc237-c47c-4c95-83dd-18f1544d9d2d"
      },
      "execution_count": 3,
      "outputs": [
        {
          "output_type": "stream",
          "name": "stdout",
          "text": [
            "Collecting pygad\n",
            "  Downloading pygad-3.3.1-py3-none-any.whl.metadata (19 kB)\n",
            "Requirement already satisfied: cloudpickle in /usr/local/lib/python3.10/dist-packages (from pygad) (3.1.0)\n",
            "Requirement already satisfied: matplotlib in /usr/local/lib/python3.10/dist-packages (from pygad) (3.7.1)\n",
            "Requirement already satisfied: numpy in /usr/local/lib/python3.10/dist-packages (from pygad) (1.26.4)\n",
            "Requirement already satisfied: contourpy>=1.0.1 in /usr/local/lib/python3.10/dist-packages (from matplotlib->pygad) (1.3.0)\n",
            "Requirement already satisfied: cycler>=0.10 in /usr/local/lib/python3.10/dist-packages (from matplotlib->pygad) (0.12.1)\n",
            "Requirement already satisfied: fonttools>=4.22.0 in /usr/local/lib/python3.10/dist-packages (from matplotlib->pygad) (4.54.1)\n",
            "Requirement already satisfied: kiwisolver>=1.0.1 in /usr/local/lib/python3.10/dist-packages (from matplotlib->pygad) (1.4.7)\n",
            "Requirement already satisfied: packaging>=20.0 in /usr/local/lib/python3.10/dist-packages (from matplotlib->pygad) (24.1)\n",
            "Requirement already satisfied: pillow>=6.2.0 in /usr/local/lib/python3.10/dist-packages (from matplotlib->pygad) (10.4.0)\n",
            "Requirement already satisfied: pyparsing>=2.3.1 in /usr/local/lib/python3.10/dist-packages (from matplotlib->pygad) (3.2.0)\n",
            "Requirement already satisfied: python-dateutil>=2.7 in /usr/local/lib/python3.10/dist-packages (from matplotlib->pygad) (2.8.2)\n",
            "Requirement already satisfied: six>=1.5 in /usr/local/lib/python3.10/dist-packages (from python-dateutil>=2.7->matplotlib->pygad) (1.16.0)\n",
            "Downloading pygad-3.3.1-py3-none-any.whl (84 kB)\n",
            "\u001b[2K   \u001b[90m━━━━━━━━━━━━━━━━━━━━━━━━━━━━━━━━━━━━━━━━\u001b[0m \u001b[32m84.1/84.1 kB\u001b[0m \u001b[31m2.6 MB/s\u001b[0m eta \u001b[36m0:00:00\u001b[0m\n",
            "\u001b[?25hInstalling collected packages: pygad\n",
            "Successfully installed pygad-3.3.1\n"
          ]
        }
      ]
    },
    {
      "cell_type": "code",
      "source": [
        "import pygad\n",
        "import numpy as np"
      ],
      "metadata": {
        "id": "SZ3ipFqI0cuY"
      },
      "execution_count": 4,
      "outputs": []
    },
    {
      "cell_type": "code",
      "source": [
        "import numpy as np\n",
        "def equation_func(ga_instance,solution, solution_idx):\n",
        "  x = solution[0]\n",
        "  equation_output = 2*x + 5\n",
        "  target_otput = 20\n",
        "  fitness = 1.0/ np.abs(equation_output - target_otput + 1e-8)\n",
        "  return (fitness)\n",
        "\n",
        "ga_instance = pygad.GA(\n",
        "    num_generations=50,\n",
        "    num_parents_mating=10,\n",
        "    fitness_func=equation_func,\n",
        "    sol_per_pop=20,\n",
        "    num_genes=1,\n",
        "    gene_type=float,\n",
        "    init_range_low=-10,\n",
        "    init_range_high=10\n",
        ")\n",
        "\n",
        "ga_instance.run()\n",
        "ga_instance.plot_fitness()\n",
        "solution,solution_fitness, _ = ga_instance.best_solution()\n",
        "print(\"Melhor solução: \", round(solution[0],1))"
      ],
      "metadata": {
        "colab": {
          "base_uri": "https://localhost:8080/",
          "height": 620
        },
        "id": "mhw8VDDK0gcY",
        "outputId": "3bb8ea9b-e68f-4318-b726-4100092a5932"
      },
      "execution_count": 10,
      "outputs": [
        {
          "output_type": "stream",
          "name": "stderr",
          "text": [
            "/usr/local/lib/python3.10/dist-packages/pygad/pygad.py:728: UserWarning: The percentage of genes to mutate (mutation_percent_genes=10) resulted in selecting (0) genes. The number of genes to mutate is set to 1 (mutation_num_genes=1).\n",
            "If you do not want to mutate any gene, please set mutation_type=None.\n",
            "  warnings.warn(\n",
            "/usr/local/lib/python3.10/dist-packages/pygad/pygad.py:1139: UserWarning: The 'delay_after_gen' parameter is deprecated starting from PyGAD 3.3.0. To delay or pause the evolution after each generation, assign a callback function/method to the 'on_generation' parameter to adds some time delay.\n",
            "  warnings.warn(\"The 'delay_after_gen' parameter is deprecated starting from PyGAD 3.3.0. To delay or pause the evolution after each generation, assign a callback function/method to the 'on_generation' parameter to adds some time delay.\")\n",
            "WARNING:matplotlib.legend:No artists with labels found to put in legend.  Note that artists whose label start with an underscore are ignored when legend() is called with no argument.\n"
          ]
        },
        {
          "output_type": "display_data",
          "data": {
            "text/plain": [
              "<Figure size 640x480 with 1 Axes>"
            ],
            "image/png": "[encoded data removed]"
          },
          "metadata": {}
        },
        {
          "output_type": "stream",
          "name": "stdout",
          "text": [
            "Melhor solução:  7.5\n"
          ]
        }
      ]
    },
    {
      "cell_type": "markdown",
      "source": [
        "#Implementando o problema binário"
      ],
      "metadata": {
        "id": "pzdRI1iUfSBN"
      }
    },
    {
      "cell_type": "code",
      "source": [
        "itens = [\n",
        "    (\"canivete\",10,1),\n",
        "    (\"feijão\",20,5),\n",
        "    (\"batatas\",15,10),\n",
        "    (\"lanterna\",2,1),\n",
        "    (\"saco de dormir\",30,7),\n",
        "    (\"corda\",10,5),\n",
        "    (\"bussula\",30,1),\n",
        "]\n",
        "\n",
        "limite_peso = 15\n",
        "\n",
        "def fitness_func(ga_instance,solution, solution_idx):\n",
        "  pontos = 0\n",
        "  peso = 0\n",
        "  for i in range(len(solution)):\n",
        "    if solution[i] ==1:\n",
        "      pontos += itens[i][1]\n",
        "      peso += itens[i][2]\n",
        "  if peso > limite_peso:\n",
        "    pontos = -1\n",
        "  return pontos\n",
        "\n",
        "ga_instance = pygad.GA(\n",
        "    num_generations=100,\n",
        "    num_parents_mating=5,\n",
        "    fitness_func=fitness_func,\n",
        "    sol_per_pop=10,\n",
        "    num_genes=len(itens),\n",
        "    gene_type=int,\n",
        "    init_range_low=0,\n",
        "    init_range_high=2\n",
        ")\n",
        "\n",
        "ga_instance.run()\n",
        "solution,solution_fitness,_ = ga_instance.best_solution()\n",
        "print(\"melhor solução\", solution)\n",
        "print(\"Pontos\", solution_fitness)"
      ],
      "metadata": {
        "colab": {
          "base_uri": "https://localhost:8080/"
        },
        "id": "e8bEi_UNfU8U",
        "outputId": "6278c06a-6a51-4a9e-be61-8715ca96d840"
      },
      "execution_count": 5,
      "outputs": [
        {
          "output_type": "stream",
          "name": "stdout",
          "text": [
            "melhor solução [1 1 0 1 1 0 1]\n",
            "Pontos 92\n"
          ]
        },
        {
          "output_type": "stream",
          "name": "stderr",
          "text": [
            "/usr/local/lib/python3.10/dist-packages/pygad/pygad.py:728: UserWarning: The percentage of genes to mutate (mutation_percent_genes=10) resulted in selecting (0) genes. The number of genes to mutate is set to 1 (mutation_num_genes=1).\n",
            "If you do not want to mutate any gene, please set mutation_type=None.\n",
            "  warnings.warn(\n",
            "/usr/local/lib/python3.10/dist-packages/pygad/pygad.py:1139: UserWarning: The 'delay_after_gen' parameter is deprecated starting from PyGAD 3.3.0. To delay or pause the evolution after each generation, assign a callback function/method to the 'on_generation' parameter to adds some time delay.\n",
            "  warnings.warn(\"The 'delay_after_gen' parameter is deprecated starting from PyGAD 3.3.0. To delay or pause the evolution after each generation, assign a callback function/method to the 'on_generation' parameter to adds some time delay.\")\n"
          ]
        }
      ]
    }
  ]
}